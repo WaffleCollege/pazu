{
  "cells": [
    {
      "cell_type": "markdown",
      "metadata": {
        "id": "view-in-github",
        "colab_type": "text"
      },
      "source": [
        "<a href=\"https://colab.research.google.com/github/WaffleCollege/pazu/blob/main/03_1_Flask_2_with_template.ipynb\" target=\"_parent\"><img src=\"https://colab.research.google.com/assets/colab-badge.svg\" alt=\"Open In Colab\"/></a>"
      ]
    },
    {
      "cell_type": "markdown",
      "metadata": {
        "id": "LqahVFAAdpcu"
      },
      "source": [
        "# 1.[事前準備]前回の内容\n",
        "\n",
        "1.  必要な道具を揃える\n",
        "2.  設定\n",
        "3.  Flaskの枠組みに沿ってアプリのプログラムを書く\n"
      ]
    },
    {
      "cell_type": "code",
      "execution_count": null,
      "metadata": {
        "id": "Z8JSlTakoMbi",
        "colab": {
          "base_uri": "https://localhost:8080/"
        },
        "outputId": "d30ef20a-7676-409b-d40f-5b5d836c754b"
      },
      "outputs": [
        {
          "output_type": "stream",
          "name": "stdout",
          "text": [
            "Requirement already satisfied: flask in /usr/local/lib/python3.10/dist-packages (2.2.5)\n",
            "Collecting pyngrok\n",
            "  Downloading pyngrok-7.2.0-py3-none-any.whl.metadata (7.4 kB)\n",
            "Requirement already satisfied: Werkzeug>=2.2.2 in /usr/local/lib/python3.10/dist-packages (from flask) (3.0.4)\n",
            "Requirement already satisfied: Jinja2>=3.0 in /usr/local/lib/python3.10/dist-packages (from flask) (3.1.4)\n",
            "Requirement already satisfied: itsdangerous>=2.0 in /usr/local/lib/python3.10/dist-packages (from flask) (2.2.0)\n",
            "Requirement already satisfied: click>=8.0 in /usr/local/lib/python3.10/dist-packages (from flask) (8.1.7)\n",
            "Requirement already satisfied: PyYAML>=5.1 in /usr/local/lib/python3.10/dist-packages (from pyngrok) (6.0.2)\n",
            "Requirement already satisfied: MarkupSafe>=2.0 in /usr/local/lib/python3.10/dist-packages (from Jinja2>=3.0->flask) (2.1.5)\n",
            "Downloading pyngrok-7.2.0-py3-none-any.whl (22 kB)\n",
            "Installing collected packages: pyngrok\n",
            "Successfully installed pyngrok-7.2.0\n"
          ]
        }
      ],
      "source": [
        "#@title 前回の内容を実行\n",
        "# 1,2 Flask, pyngrokのインストール\n",
        "!pip install flask pyngrok\n",
        "#  必要なモジュールのimport\n",
        "import os\n",
        "# flaskからFlaskクラスをインポート\n",
        "from flask import Flask\n",
        "# pyngrokからngrokモジュールとconfモジュールをインポート\n",
        "from pyngrok import ngrok, conf\n",
        "# 設定\n",
        "# ngrokトークンを設定\n",
        "\n",
        "\n"
      ]
    },
    {
      "cell_type": "markdown",
      "metadata": {
        "id": "DXLbLjWgI9EH"
      },
      "source": []
    },
    {
      "cell_type": "markdown",
      "source": [
        "（home.htmlのコピペ元）\n",
        "\n",
        "\n",
        "```\n",
        "<!DOCTYPE html>\n",
        "<html>\n",
        "  <link rel=\"stylesheet\" href=\"{{ url_for('static', filename='css/style.css')}}\">\n",
        "<head>\n",
        "</head>\n",
        "<body>\n",
        "    <header>\n",
        "      <h1>ミニブログをつくってみよう !</h1>\n",
        "    </header>\n",
        "    <p>Let's begin !</p>\n",
        "</body>\n",
        "</html>\n",
        "```\n",
        "\n",
        "（style.cssのコピペ元）\n",
        "\n",
        "\n",
        "```\n",
        "body {\n",
        "    background-color: #f0f0f0;\n",
        "    font-family: Arial, sans-serif;\n",
        "    margin: 0;\n",
        "    padding: 0;\n",
        "}\n",
        "\n",
        "header {\n",
        "    background-color: #333;\n",
        "    color: #fff;\n",
        "    padding: 10px 0;\n",
        "    text-align: center;\n",
        "}\n",
        "```\n",
        "\n"
      ],
      "metadata": {
        "id": "68KShRz6T9xs"
      }
    },
    {
      "cell_type": "markdown",
      "metadata": {
        "id": "msMWsUx5noc9"
      },
      "source": [
        "# 2. テンプレートを追加する [環境準備]"
      ]
    },
    {
      "cell_type": "code",
      "execution_count": null,
      "metadata": {
        "colab": {
          "base_uri": "https://localhost:8080/"
        },
        "id": "3sw762nAXj-M",
        "outputId": "b8d2048a-5fd1-40bd-dff7-3c24db102378"
      },
      "outputs": [
        {
          "output_type": "stream",
          "name": "stdout",
          "text": [
            "Mounted at /content/drive\n"
          ]
        }
      ],
      "source": [
        "# @title 2-a ノートブックからGoogleドライブを参照できるようにする（マウント）\n",
        "from google.colab import drive\n",
        "drive.mount('/content/drive')"
      ]
    },
    {
      "cell_type": "markdown",
      "metadata": {
        "id": "h4hqlRcIm_7V"
      },
      "source": []
    },
    {
      "cell_type": "markdown",
      "metadata": {
        "id": "sGqmSjreNpO8"
      },
      "source": [
        "# 3. 追加したテンプレートを呼び出す設定にする [アプリのプログラミング]\n"
      ]
    },
    {
      "cell_type": "code",
      "execution_count": null,
      "metadata": {
        "id": "C1jd2YAZN7F2"
      },
      "outputs": [],
      "source": [
        "# @title フレームワークに自分のアプリのためのプログラムを追加する\n",
        "from flask import Flask, render_template\n",
        "\n",
        "# テンプレートと静的ファイルの置き場所を定数に代入\n",
        "TEMPLATE_PATH = 'drive/My Drive/flask_blog/templates'\n",
        "STATIC_PATH = 'drive/My Drive/flask_blog/static'\n",
        "# Flaskのインスタンスを作るときにそれを利用してファイルパスを設定する\n",
        "app = Flask(__name__, template_folder=TEMPLATE_PATH, static_folder=STATIC_PATH)\n",
        "# /（ルート）にアクセスしたら次に書く関数(hello_world)を実行するという宣言\n",
        "@app.route(\"/\")\n",
        "def home():\n",
        "    return render_template('home.html')\n",
        "\n"
      ]
    },
    {
      "cell_type": "markdown",
      "source": [
        "# 4.プログラムを実行してアプリを立ち上げる[実行]"
      ],
      "metadata": {
        "id": "ztZFlDQ7POPL"
      }
    },
    {
      "cell_type": "code",
      "execution_count": null,
      "metadata": {
        "colab": {
          "base_uri": "https://localhost:8080/"
        },
        "id": "T4UiEnkIbCYM",
        "outputId": "c223a102-cd2f-4784-f539-3584f9c39c83"
      },
      "outputs": [
        {
          "metadata": {
            "tags": null
          },
          "name": "stdout",
          "output_type": "stream",
          "text": [
            "ngrok URL: NgrokTunnel: \"https://2261-35-245-10-220.ngrok-free.app\" -> \"http://localhost:5000\"\n",
            " * Serving Flask app '__main__'\n",
            " * Debug mode: off\n"
          ]
        },
        {
          "metadata": {
            "tags": null
          },
          "name": "stderr",
          "output_type": "stream",
          "text": [
            "INFO:werkzeug:\u001b[31m\u001b[1mWARNING: This is a development server. Do not use it in a production deployment. Use a production WSGI server instead.\u001b[0m\n",
            " * Running on http://127.0.0.1:5000\n",
            "INFO:werkzeug:\u001b[33mPress CTRL+C to quit\u001b[0m\n",
            "INFO:werkzeug:127.0.0.1 - - [26/Sep/2024 09:50:32] \"GET / HTTP/1.1\" 200 -\n",
            "INFO:werkzeug:127.0.0.1 - - [26/Sep/2024 09:50:33] \"GET /static/css/style.css HTTP/1.1\" 200 -\n",
            "INFO:werkzeug:127.0.0.1 - - [26/Sep/2024 09:50:33] \"\u001b[33mGET /favicon.ico HTTP/1.1\u001b[0m\" 404 -\n",
            "INFO:werkzeug:127.0.0.1 - - [26/Sep/2024 10:17:29] \"GET / HTTP/1.1\" 200 -\n",
            "INFO:werkzeug:127.0.0.1 - - [26/Sep/2024 10:17:39] \"\u001b[36mGET /static/css/style.css HTTP/1.1\u001b[0m\" 304 -\n"
          ]
        }
      ],
      "source": [
        "# @title ngrokにトンネルを繋いでアプリを起動する\n",
        "if __name__ == \"__main__\":\n",
        "    public_url = ngrok.connect(5000) #ngrokのトンネルを繋ぐ\n",
        "    print(f\"ngrok URL: {public_url}\")\n",
        "    app.run(port=5000) # 5000番ポートでアプリを起動"
      ]
    }
  ],
  "metadata": {
    "colab": {
      "provenance": [],
      "include_colab_link": true
    },
    "kernelspec": {
      "display_name": "Python 3",
      "name": "python3"
    },
    "language_info": {
      "name": "python"
    }
  },
  "nbformat": 4,
  "nbformat_minor": 0
}